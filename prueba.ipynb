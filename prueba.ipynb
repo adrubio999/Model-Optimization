{
 "cells": [
  {
   "cell_type": "code",
   "execution_count": 1,
   "metadata": {},
   "outputs": [],
   "source": [
    "import numpy as np\n",
    "import pickle\n",
    "from aux_fcn import get_predictions_index, session"
   ]
  },
  {
   "cell_type": "code",
   "execution_count": 17,
   "metadata": {},
   "outputs": [
    {
     "name": "stdout",
     "output_type": "stream",
     "text": [
      "4 4\n",
      "0\n",
      "1.0\n",
      "4\n",
      "2.0\n",
      "8\n",
      "3.0\n",
      "12\n",
      "4.0\n",
      "16\n",
      "5.0\n"
     ]
    },
    {
     "data": {
      "text/plain": [
       "array([1., 1., 1., 1., 2., 2., 2., 2., 3., 3., 3., 3., 4., 4., 4., 4., 5.,\n",
       "       5., 5., 5.])"
      ]
     },
     "execution_count": 17,
     "metadata": {},
     "output_type": "execute_result"
    }
   ],
   "source": [
    "window_size=4\n",
    "stride=4\n",
    "fs=1\n",
    "y_exp=[1,1,1,1,2,2,2,2,3,3,3,3,4,4,4,4,5,5,5,5]\n",
    "n_samples=len(y_exp)\n",
    "y_exp=np.hstack([y_exp,np.zeros(shape=50)])\n",
    "window_pts = int(window_size * fs)\n",
    "stride_pts = int(stride * fs)\n",
    "print(window_pts,stride_pts)\n",
    "\n",
    "out=np.zeros(shape=(n_samples))\n",
    "for sample in range(0,n_samples,stride_pts):\n",
    "    print(sample)\n",
    "    print(np.mean(y_exp[sample:sample+window_pts]))\n",
    "    out[sample:sample+stride_pts]=np.mean(y_exp[sample:sample+window_pts])\n",
    "out"
   ]
  },
  {
   "cell_type": "code",
   "execution_count": 11,
   "metadata": {},
   "outputs": [
    {
     "data": {
      "text/plain": [
       "array([1., 1., 1., 1., 2., 2., 2., 2., 3., 3., 3., 3., 4., 4., 4., 4., 5.,\n",
       "       5., 5., 5.])"
      ]
     },
     "execution_count": 11,
     "metadata": {},
     "output_type": "execute_result"
    }
   ],
   "source": [
    "y_exp[:20]"
   ]
  },
  {
   "cell_type": "code",
   "execution_count": 12,
   "metadata": {},
   "outputs": [
    {
     "name": "stdout",
     "output_type": "stream",
     "text": [
      "<bound method BaseSearchCV.predict_proba of GridSearchCV(estimator=XGBClassifier(base_score=0.5, booster='gbtree',\n",
      "                                     callbacks=None, colsample_bylevel=1,\n",
      "                                     colsample_bynode=1, colsample_bytree=1,\n",
      "                                     early_stopping_rounds=None,\n",
      "                                     enable_categorical=False, eval_metric=None,\n",
      "                                     gamma=0, gpu_id=-1, grow_policy=None,\n",
      "                                     importance_type='gain',\n",
      "                                     interaction_constraints='',\n",
      "                                     learning_rate=0.005, max_bin=None,\n",
      "                                     max_cat_to_onehot=Non...\n",
      "                                     max_depth=6, max_leaves=None,\n",
      "                                     min_child_weight=1, missing=nan,\n",
      "                                     monotone_constraints='()',\n",
      "                                     n_estimators=100, n_jobs=-1,\n",
      "                                     num_parallel_tree=1, predictor=None,\n",
      "                                     random_state=0, reg_alpha=0, reg_lambda=1, ...),\n",
      "             n_jobs=-1,\n",
      "             param_grid={'colsample_bytree': [0.5], 'gamma': [0],\n",
      "                         'learning_rate': [0.1], 'max_depth': [3],\n",
      "                         'reg_lambda': [0], 'scale_pos_weight': [1],\n",
      "                         'subsample': [0.8]},\n",
      "             verbose=3)>\n"
     ]
    }
   ],
   "source": [
    "print(x.predict_proba)"
   ]
  }
 ],
 "metadata": {
  "kernelspec": {
   "display_name": "Python 3.9.13 64-bit (microsoft store)",
   "language": "python",
   "name": "python3"
  },
  "language_info": {
   "codemirror_mode": {
    "name": "ipython",
    "version": 3
   },
   "file_extension": ".py",
   "mimetype": "text/x-python",
   "name": "python",
   "nbconvert_exporter": "python",
   "pygments_lexer": "ipython3",
   "version": "3.9.13"
  },
  "orig_nbformat": 4,
  "vscode": {
   "interpreter": {
    "hash": "6ccda4cf497a1ac74cdbccb1c0114a3bcadb57cf4315f8b33cc599587ac95f96"
   }
  }
 },
 "nbformat": 4,
 "nbformat_minor": 2
}
