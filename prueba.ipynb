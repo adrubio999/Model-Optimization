{
 "cells": [
  {
   "cell_type": "code",
   "execution_count": 6,
   "metadata": {},
   "outputs": [],
   "source": [
    "import numpy as np\n",
    "import pickle\n",
    "from aux_fcn import get_predictions_index, session"
   ]
  },
  {
   "cell_type": "code",
   "execution_count": 10,
   "metadata": {},
   "outputs": [],
   "source": [
    "\n",
    "with open('C:\\ProyectoInicial\\Datos_pickle\\\\y_'+session[-2]+'.pickle', 'rb') as handle:\n",
    "    y=pickle.load(handle)\n",
    "\n",
    "y_gt_ind=get_predictions_index(y,0.7) # 4.7 segundos"
   ]
  },
  {
   "cell_type": "code",
   "execution_count": 26,
   "metadata": {},
   "outputs": [
    {
     "name": "stdout",
     "output_type": "stream",
     "text": [
      "1309 1309\n"
     ]
    }
   ],
   "source": [
    "def get_predictions_index2(predictions,threshold=0.5):\n",
    "    aux=np.copy(predictions)\n",
    "    aux[aux>=threshold]=1\n",
    "    aux[aux<threshold]=0\n",
    "    pred_indexes =[]\n",
    "    dif=np.diff(aux,axis=0)\n",
    "    begin_indexes=np.where(dif==1)[0]\n",
    "    end_indexes=np.where(dif==-1)[0]\n",
    "    if len(begin_indexes)!=len(end_indexes):\n",
    "        begin_indexes=begin_indexes[:-1]\n",
    "    print(len(begin_indexes),len(end_indexes))\n",
    "    \n",
    "    pred_indexes=np.empty(shape=(len(begin_indexes),2))\n",
    "    pred_indexes[:,0]=begin_indexes\n",
    "    pred_indexes[:,1]=end_indexes\n",
    "    return pred_indexes\n",
    "y_gt_ind_2=get_predictions_index2(y,0.7) # 4.7 segundos"
   ]
  }
 ],
 "metadata": {
  "kernelspec": {
   "display_name": "Python 3.9.13 64-bit (microsoft store)",
   "language": "python",
   "name": "python3"
  },
  "language_info": {
   "codemirror_mode": {
    "name": "ipython",
    "version": 3
   },
   "file_extension": ".py",
   "mimetype": "text/x-python",
   "name": "python",
   "nbconvert_exporter": "python",
   "pygments_lexer": "ipython3",
   "version": "3.9.13"
  },
  "orig_nbformat": 4,
  "vscode": {
   "interpreter": {
    "hash": "6ccda4cf497a1ac74cdbccb1c0114a3bcadb57cf4315f8b33cc599587ac95f96"
   }
  }
 },
 "nbformat": 4,
 "nbformat_minor": 2
}
