{
 "cells": [
  {
   "cell_type": "code",
   "execution_count": 12,
   "metadata": {},
   "outputs": [],
   "source": [
    "import aux_fcn"
   ]
  },
  {
   "cell_type": "code",
   "execution_count": 11,
   "metadata": {},
   "outputs": [
    {
     "ename": "AttributeError",
     "evalue": "module 'aux_fcn' has no attribute 'str_of_fixed_length'",
     "output_type": "error",
     "traceback": [
      "\u001b[1;31m---------------------------------------------------------------------------\u001b[0m",
      "\u001b[1;31mAttributeError\u001b[0m                            Traceback (most recent call last)",
      "\u001b[1;32mc:\\Septiembre-Octubre\\Model-Optimization\\prueba.ipynb Celda 2\u001b[0m in \u001b[0;36m<cell line: 1>\u001b[1;34m()\u001b[0m\n\u001b[1;32m----> <a href='vscode-notebook-cell:/c%3A/Septiembre-Octubre/Model-Optimization/prueba.ipynb#W1sZmlsZQ%3D%3D?line=0'>1</a>\u001b[0m aux_fcn\u001b[39m.\u001b[39;49mstr_of_fixed_length(\u001b[39m2\u001b[39m,\u001b[39m2\u001b[39m)\n",
      "\u001b[1;31mAttributeError\u001b[0m: module 'aux_fcn' has no attribute 'str_of_fixed_length'"
     ]
    }
   ],
   "source": [
    "aux_fcn.str_of_fixed_length(2,2)"
   ]
  }
 ],
 "metadata": {
  "kernelspec": {
   "display_name": "Python 3.9.13 64-bit (microsoft store)",
   "language": "python",
   "name": "python3"
  },
  "language_info": {
   "codemirror_mode": {
    "name": "ipython",
    "version": 3
   },
   "file_extension": ".py",
   "mimetype": "text/x-python",
   "name": "python",
   "nbconvert_exporter": "python",
   "pygments_lexer": "ipython3",
   "version": "3.9.13"
  },
  "orig_nbformat": 4,
  "vscode": {
   "interpreter": {
    "hash": "6ccda4cf497a1ac74cdbccb1c0114a3bcadb57cf4315f8b33cc599587ac95f96"
   }
  }
 },
 "nbformat": 4,
 "nbformat_minor": 2
}
