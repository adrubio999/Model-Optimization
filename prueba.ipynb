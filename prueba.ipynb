{
 "cells": [
  {
   "cell_type": "code",
   "execution_count": 1,
   "metadata": {},
   "outputs": [],
   "source": [
    "import numpy as np\n",
    "import pickle\n",
    "from aux_fcn import get_predictions_index, session"
   ]
  },
  {
   "cell_type": "code",
   "execution_count": 5,
   "metadata": {},
   "outputs": [],
   "source": [
    "with open('C:\\Septiembre-Octubre\\Model-Optimization\\XGBOOST\\Compilation\\GridSearchCV.pickle', 'rb') as handle:\n",
    "    x=pickle.load(handle)"
   ]
  },
  {
   "cell_type": "code",
   "execution_count": 10,
   "metadata": {},
   "outputs": [
    {
     "name": "stdout",
     "output_type": "stream",
     "text": [
      "\n",
      " \n",
      " \n",
      " Parametric search execution time: 4.700 seconds.\n"
     ]
    }
   ],
   "source": [
    "print(\"\\n \\n \\n Parametric search execution time: {:0.3f} seconds.\".format(4.7))"
   ]
  },
  {
   "cell_type": "code",
   "execution_count": 12,
   "metadata": {},
   "outputs": [
    {
     "name": "stdout",
     "output_type": "stream",
     "text": [
      "<bound method BaseSearchCV.predict_proba of GridSearchCV(estimator=XGBClassifier(base_score=0.5, booster='gbtree',\n",
      "                                     callbacks=None, colsample_bylevel=1,\n",
      "                                     colsample_bynode=1, colsample_bytree=1,\n",
      "                                     early_stopping_rounds=None,\n",
      "                                     enable_categorical=False, eval_metric=None,\n",
      "                                     gamma=0, gpu_id=-1, grow_policy=None,\n",
      "                                     importance_type='gain',\n",
      "                                     interaction_constraints='',\n",
      "                                     learning_rate=0.005, max_bin=None,\n",
      "                                     max_cat_to_onehot=Non...\n",
      "                                     max_depth=6, max_leaves=None,\n",
      "                                     min_child_weight=1, missing=nan,\n",
      "                                     monotone_constraints='()',\n",
      "                                     n_estimators=100, n_jobs=-1,\n",
      "                                     num_parallel_tree=1, predictor=None,\n",
      "                                     random_state=0, reg_alpha=0, reg_lambda=1, ...),\n",
      "             n_jobs=-1,\n",
      "             param_grid={'colsample_bytree': [0.5], 'gamma': [0],\n",
      "                         'learning_rate': [0.1], 'max_depth': [3],\n",
      "                         'reg_lambda': [0], 'scale_pos_weight': [1],\n",
      "                         'subsample': [0.8]},\n",
      "             verbose=3)>\n"
     ]
    }
   ],
   "source": [
    "print(x.predict_proba)"
   ]
  }
 ],
 "metadata": {
  "kernelspec": {
   "display_name": "Python 3.9.13 64-bit (microsoft store)",
   "language": "python",
   "name": "python3"
  },
  "language_info": {
   "codemirror_mode": {
    "name": "ipython",
    "version": 3
   },
   "file_extension": ".py",
   "mimetype": "text/x-python",
   "name": "python",
   "nbconvert_exporter": "python",
   "pygments_lexer": "ipython3",
   "version": "3.9.13"
  },
  "orig_nbformat": 4,
  "vscode": {
   "interpreter": {
    "hash": "6ccda4cf497a1ac74cdbccb1c0114a3bcadb57cf4315f8b33cc599587ac95f96"
   }
  }
 },
 "nbformat": 4,
 "nbformat_minor": 2
}
