{
 "cells": [
  {
   "cell_type": "markdown",
   "metadata": {},
   "source": [
    "# CLASIFICACIÓN DE RIPPLES"
   ]
  },
  {
   "cell_type": "markdown",
   "metadata": {
    "id": "yh7Uswj-NdWu"
   },
   "source": [
    "\n",
    "-Algoritmo basado en aprendizaje supervisado (SVM) para la detección  de \"ripples\", LFPs o picos de actividad cerebral en las\n",
    "series temporales registradas por 8 delectrodos localizados en el hipotálamo de un ser humano. Para más información\n",
    "https://thebraincodegames.github.io/ .\n",
    "\n",
    "-Cada dispositivo registra un valor de potencial eléctrico cada (1/30.000) s. Al valor del denominador se le conoce como\n",
    "\"frecuencia de sampleo\".\n",
    "\n",
    "-Para \"alimentar\" los datos recabados a nuestro algoritmo se han dividido los muestreos en segmentos de \"A\" instantes.\n",
    "Cabe recordar que un instante cada 1/30.000 segundos, luego los segmentos tendrán una duración de A/30.000 segundos.\n",
    "El algoritmo evalua cada segmento en base a sus A instantes, para decidir si contiene o no un ripple.\n",
    "A este conjunto de segmentos que constituyen el \"input\" de nuestro algoritmo, se ha referenciado como 'X'.\n",
    "\n",
    "-Para determinar el valor óptimo del ancho del segmento, el hiperparámetro \"A\", se han compararon los resultados \n",
    "del algoritmo para distintos valores situados entre el periodo de oscilación de un \"ripple\" y la duración media de uno.\n",
    "\n",
    "-Dado que se trata de aprendizaje supervisado, se necesita un conjunto de etiquetas elaboradas por un experto que informen\n",
    "al algoritmo durante su aprendizaje sobre lo que es y no es un ripple. A este conjunto de etiquetas, se ha referenciado como 'y'."
   ]
  },
  {
   "cell_type": "markdown",
   "metadata": {
    "id": "JxuuPYOLsn1C"
   },
   "source": [
    "# IMPORTACIONES\n"
   ]
  },
  {
   "cell_type": "markdown",
   "metadata": {
    "id": "Am1xD4rAsyAP"
   },
   "source": [
    "# FUNCIONES AUXILIARES"
   ]
  },
  {
   "cell_type": "code",
   "execution_count": 1,
   "metadata": {},
   "outputs": [],
   "source": [
    "import numpy as np\n",
    "import pickle\n",
    "import sklearn as sk\n",
    "from sklearn import svm\n",
    "from sklearn import calibration\n",
    "import imblearn\n",
    "from imblearn.under_sampling import RandomUnderSampler\n",
    "import matplotlib.pyplot as plt\n",
    "from metrics import compute_precision_recall_events"
   ]
  },
  {
   "cell_type": "code",
   "execution_count": 18,
   "metadata": {},
   "outputs": [],
   "source": [
    "def split_data(x,y,window_dur=60,fs=1250,split=0.7,window=1):\n",
    "    n_samples_window=window_dur*fs\n",
    "    n_windows=np.shape(x)[0]//n_samples_window\n",
    "    x_test=[]\n",
    "    x_train=[]\n",
    "    y_train=[]\n",
    "    y_test=[]\n",
    "    rand_arr= np.random.rand(n_windows)         # Distribución normal, quizá no sea lo más correcto\n",
    "    #print(rand_arr)\n",
    "    for i in range(n_windows):\n",
    "        if rand_arr[i]>=split:\n",
    "            x_test=np.append(x_test,x[i*n_samples_window:(i+1)*n_samples_window])\n",
    "            y_test=np.append(y_test,y[i*n_samples_window:(i+1)*n_samples_window])\n",
    "        else:\n",
    "            x_train=np.append(x_train,x[i*n_samples_window:(i+1)*n_samples_window])\n",
    "            y_train=np.append(y_train,y[i*n_samples_window:(i+1)*n_samples_window])\n",
    "    if window==1:       \n",
    "        x_test=np.reshape(x_test,(-1,8))\n",
    "        x_train=np.reshape(x_train,(-1,8))\n",
    "        y_test=np.reshape(y_test,(-1,1))\n",
    "        y_train=np.reshape(y_train,(-1,1))\n",
    "    else:\n",
    "        x_test=np.reshape(x_test,(-1,window*8))\n",
    "        x_train=np.reshape(x_train,(-1,window*8))\n",
    "        y_test=np.reshape(y_test,(-1,window))\n",
    "        y_train=np.reshape(y_train,(-1,window))\n",
    "    return x_test,y_test,x_train,y_train"
   ]
  },
  {
   "cell_type": "code",
   "execution_count": 16,
   "metadata": {},
   "outputs": [],
   "source": [
    "def rec_signal(y):\n",
    "    len=np.shape(y)[0]\n",
    "    print(np.shape(y))\n",
    "    r_signal=np.empty(shape=(len))\n",
    "    for i,w in enumerate(y):\n",
    "        if any(w)==1:\n",
    "            r_signal[i]=1\n",
    "    return r_signal"
   ]
  },
  {
   "cell_type": "code",
   "execution_count": 32,
   "metadata": {},
   "outputs": [
    {
     "name": "stdout",
     "output_type": "stream",
     "text": [
      "(3075000, 8) (1200000, 8)\n",
      "(3075000,) (1200000,)\n"
     ]
    }
   ],
   "source": [
    "# Carga de datos ya z-scoreados y subsampleados\n",
    "with open('C:\\ProyectoInicial\\Datos_pickle\\\\x_Amigo2_1.pickle', 'rb') as handle:\n",
    "    x=pickle.load(handle)\n",
    "with open('C:\\ProyectoInicial\\Datos_pickle\\\\x_Som_2.pickle', 'rb') as handle:\n",
    "    x=np.append(x,pickle.load(handle))\n",
    "with open('C:\\ProyectoInicial\\Datos_pickle\\\\y_Amigo2_1.pickle', 'rb') as handle:\n",
    "    y=pickle.load(handle)\n",
    "with open('C:\\ProyectoInicial\\Datos_pickle\\\\y_Som_2.pickle', 'rb') as handle:\n",
    "    y=np.append(y,pickle.load(handle)) \n",
    "x=np.reshape(x,(-1,8))\n",
    "y=np.reshape(y,(-1,1))\n",
    "\n",
    "fs=1250\n",
    "window=1\n",
    "\n",
    "x_test,y_test_aux,x_train,y_train_aux=split_data(x,y,window_dur=60,fs=fs,split=0.7,window=window)\n",
    "if window==1:\n",
    "    y_train=np.reshape(y_train_aux,(-1,))\n",
    "    y_test=np.reshape(y_test_aux,(-1,))\n",
    "else:\n",
    "    y_train=rec_signal(y_train_aux)\n",
    "    y_test=rec_signal(y_test_aux)\n",
    "\n",
    "print(np.shape(x_train),np.shape(x_test))\n",
    "\n",
    "print(np.shape(y_train),np.shape(y_test))\n"
   ]
  },
  {
   "cell_type": "code",
   "execution_count": 9,
   "metadata": {},
   "outputs": [
    {
     "name": "stdout",
     "output_type": "stream",
     "text": [
      "[[-1.1914e+00 -1.1621e+00 -9.7168e-01 -1.1123e+00 -1.3320e+00 -1.2861e+00\n",
      "  -1.0488e+00 -1.1914e+00]\n",
      " [-1.2402e+00 -1.3330e+00 -1.2031e+00 -1.4443e+00 -1.3906e+00 -1.2412e+00\n",
      "  -1.2334e+00 -1.1406e+00]\n",
      " [-1.4834e+00 -1.4355e+00 -1.5312e+00 -1.5918e+00 -1.4658e+00 -1.6309e+00\n",
      "  -1.4648e+00 -1.3613e+00]\n",
      " [-2.1484e+00 -2.3594e+00 -2.5566e+00 -2.0898e+00 -2.4355e+00 -2.0098e+00\n",
      "  -1.8574e+00 -1.6553e+00]\n",
      " [-1.4512e+00 -1.4570e+00 -1.1230e+00 -1.5449e+00 -1.4150e+00 -1.7578e+00\n",
      "  -1.4414e+00 -1.4678e+00]\n",
      " [-1.4375e+00 -1.4795e+00 -1.0928e+00 -1.4404e+00 -1.4834e+00 -1.5391e+00\n",
      "  -1.5078e+00 -1.4688e+00]\n",
      " [-1.3867e+00 -1.4873e+00 -1.2197e+00 -1.4170e+00 -1.3672e+00 -1.5820e+00\n",
      "  -1.4102e+00 -1.3564e+00]\n",
      " [-1.3564e+00 -1.4775e+00 -1.2197e+00 -1.1992e+00 -1.4082e+00 -1.4951e+00\n",
      "  -1.0674e+00 -1.2070e+00]\n",
      " [-1.1758e+00 -1.2822e+00 -8.2422e-01 -9.9512e-01 -1.0986e+00 -1.0996e+00\n",
      "  -1.0000e+00 -9.4629e-01]\n",
      " [-8.3643e-01 -7.7197e-01 -7.0166e-01 -8.0566e-01 -7.1631e-01 -8.4277e-01\n",
      "  -7.7002e-01 -6.7920e-01]\n",
      " [-6.5674e-01 -6.2891e-01 -5.6006e-01 -5.9424e-01 -6.0254e-01 -6.2158e-01\n",
      "  -6.5039e-01 -5.7666e-01]\n",
      " [-6.4746e-01 -1.4209e+00 -3.7207e-01 -6.2842e-01 -4.5752e-01 -4.5361e-01\n",
      "  -3.2153e-01 -4.7217e-01]\n",
      " [-6.6406e-01 -4.2432e-01 -8.1201e-01 -2.9346e-01 -4.9609e-01 -3.7476e-01\n",
      "  -4.2285e-01 -3.2251e-01]\n",
      " [ 4.0161e-02  3.0029e-02  4.0430e-01  2.5220e-01  2.1313e-01  6.2866e-02\n",
      "   5.7449e-03  3.7079e-02]\n",
      " [-3.2153e-01 -3.3203e-01 -5.8496e-01 -3.7866e-01 -4.2651e-01 -1.0931e-01\n",
      "  -2.1851e-01 -6.3721e-02]\n",
      " [-1.0187e-01  2.2302e-01  7.0496e-02  1.1163e-01  1.4551e-01  1.8311e-02\n",
      "   4.3701e-02 -6.0211e-02]\n",
      " [ 3.1665e-01  5.5469e-01  7.4854e-01  5.9766e-01  2.7490e-01  7.7026e-02\n",
      "   2.1286e-03 -2.7734e-01]\n",
      " [ 8.5107e-01  9.0674e-01  1.0781e+00  8.0420e-01  5.9375e-01  4.9829e-01\n",
      "   4.5532e-02 -1.1230e-01]\n",
      " [ 6.3281e-01  9.3848e-01  1.0088e+00  8.7451e-01  3.4839e-01  2.6929e-01\n",
      "   1.3953e-01 -1.8872e-01]\n",
      " [ 4.2480e-01  7.3779e-01  6.4209e-01  7.9150e-01  2.9419e-01  2.8955e-01\n",
      "   3.1052e-02 -1.0193e-01]\n",
      " [ 1.6699e-01  3.2349e-01  1.6663e-01  1.9897e-01 -4.5807e-02  3.0457e-02\n",
      "  -1.8408e-01 -3.2422e-01]\n",
      " [-2.0227e-01  2.6001e-02 -2.2656e-01 -2.4243e-01 -2.5464e-01 -2.4500e-01\n",
      "  -3.5059e-01 -4.1626e-01]\n",
      " [-4.1431e-01 -1.5088e-01 -4.0063e-01 -3.7231e-01 -4.1699e-01 -5.8545e-01\n",
      "  -5.3320e-01 -6.0938e-01]\n",
      " [-3.5181e-01 -1.0266e-01 -2.8589e-01 -1.2720e-01 -2.7197e-01 -4.3555e-01\n",
      "  -4.2114e-01 -5.0684e-01]\n",
      " [-3.4619e-01  3.8872e-03 -3.6792e-01 -2.3816e-01 -1.8872e-01 -3.5034e-01\n",
      "  -2.1118e-01 -3.9551e-01]\n",
      " [-3.6890e-01 -1.0065e-01 -1.8152e-01 -2.6367e-01 -2.6221e-01 -3.0371e-01\n",
      "  -2.8540e-01 -2.0959e-01]\n",
      " [-1.6821e-01  2.6001e-02 -1.7126e-01 -1.1865e-01 -9.6069e-02 -3.0176e-01\n",
      "  -2.2754e-01 -1.5051e-01]\n",
      " [-2.4023e-01 -1.0266e-01 -1.0974e-01 -2.4451e-01 -2.3511e-01 -3.5449e-01\n",
      "  -1.2079e-01 -8.6304e-02]\n",
      " [-2.8931e-01 -2.1118e-01 -3.9868e-01 -1.0376e-01 -2.9321e-01 -3.4644e-01\n",
      "  -1.9861e-01 -6.1951e-02]\n",
      " [-2.9883e-01 -4.2432e-01 -3.6597e-01 -2.6587e-01 -2.3901e-01 -2.3682e-01\n",
      "  -1.6968e-01 -1.1060e-01]\n",
      " [-1.2079e-01 -1.2476e-01 -1.7542e-01 -1.2079e-01 -1.6943e-01 -6.4758e-02\n",
      "  -3.5858e-02 -6.1951e-02]\n",
      " [-3.5938e-01 -3.0176e-01 -3.8232e-01 -1.1017e-01 -2.7002e-01 -1.9226e-01\n",
      "  -1.2079e-01 -1.6785e-01]\n",
      " [-8.0469e-01 -7.0557e-01 -1.1729e+00 -4.6411e-01 -6.7383e-01 -2.0642e-01\n",
      "  -8.2825e-02 -9.6680e-02]\n",
      " [-5.2910e-03  1.3452e-01  9.3018e-02  3.8452e-01  3.3862e-01  3.7671e-01\n",
      "   3.7280e-01  3.7427e-01]\n",
      " [ 7.4280e-02 -3.6316e-02  7.4658e-01  6.1035e-01  7.3682e-01  8.0420e-01\n",
      "   8.0518e-01  6.7969e-01]\n",
      " [ 4.3945e-02  4.2578e-01 -1.0364e-01  6.7627e-01  6.5771e-01  9.7021e-01\n",
      "   7.6367e-01  8.3643e-01]\n",
      " [ 1.0850e+00  1.0938e+00  1.4697e+00  1.0498e+00  1.4404e+00  1.0615e+00\n",
      "   1.2744e+00  1.1699e+00]\n",
      " [ 1.4561e+00  1.4971e+00  1.9492e+00  1.9072e+00  2.0078e+00  1.9541e+00\n",
      "   1.7363e+00  1.6416e+00]\n",
      " [ 2.0996e+00  2.2852e+00  2.5723e+00  2.5508e+00  2.5098e+00  2.5762e+00\n",
      "   2.3711e+00  2.2305e+00]\n",
      " [ 2.3730e+00  2.5430e+00  2.6836e+00  2.7930e+00  2.6816e+00  2.7383e+00\n",
      "   2.2910e+00  2.1133e+00]]\n"
     ]
    }
   ],
   "source": [
    "print(x[40:80,:])\n",
    "aco=x_test[0:2,:,:]"
   ]
  },
  {
   "cell_type": "code",
   "execution_count": 33,
   "metadata": {},
   "outputs": [],
   "source": [
    "rus = RandomUnderSampler(sampling_strategy=0.1)\n",
    "# Nº de instantes con ripple: 78588\n",
    "x_train_us, y_train_us, = rus.fit_resample(x_train, y_train)"
   ]
  },
  {
   "cell_type": "code",
   "execution_count": 26,
   "metadata": {},
   "outputs": [],
   "source": [
    "def get_predictions_index(predictions,threshold=0.5):\n",
    "    aux=np.copy(predictions)\n",
    "    aux[aux>=threshold]=1\n",
    "    aux[aux<threshold]=0\n",
    "    pred_indexes =[]\n",
    "    dif=np.diff(aux,axis=0)\n",
    "    for i_pred,pred in enumerate(dif):\n",
    "        if pred==1:\n",
    "            pred_indexes.append(i_pred)\n",
    "        elif pred==-1:\n",
    "            pred_indexes.append(i_pred)\n",
    "    if len(pred_indexes)%2==1:\n",
    "        pred_indexes=pred_indexes[:-1]    \n",
    "    pred_indexes=np.array(pred_indexes).reshape(-1,2)\n",
    "    return(np.array(pred_indexes).reshape(-1,2))"
   ]
  },
  {
   "cell_type": "code",
   "execution_count": 34,
   "metadata": {},
   "outputs": [
    {
     "name": "stderr",
     "output_type": "stream",
     "text": [
      "C:\\Users\\adrub\\AppData\\Local\\Packages\\PythonSoftwareFoundation.Python.3.9_qbz5n2kfra8p0\\LocalCache\\local-packages\\Python39\\site-packages\\sklearn\\svm\\_base.py:1225: ConvergenceWarning: Liblinear failed to converge, increase the number of iterations.\n",
      "  warnings.warn(\n",
      "C:\\Users\\adrub\\AppData\\Local\\Packages\\PythonSoftwareFoundation.Python.3.9_qbz5n2kfra8p0\\LocalCache\\local-packages\\Python39\\site-packages\\sklearn\\svm\\_base.py:1225: ConvergenceWarning: Liblinear failed to converge, increase the number of iterations.\n",
      "  warnings.warn(\n",
      "C:\\Users\\adrub\\AppData\\Local\\Packages\\PythonSoftwareFoundation.Python.3.9_qbz5n2kfra8p0\\LocalCache\\local-packages\\Python39\\site-packages\\sklearn\\svm\\_base.py:1225: ConvergenceWarning: Liblinear failed to converge, increase the number of iterations.\n",
      "  warnings.warn(\n",
      "C:\\Users\\adrub\\AppData\\Local\\Packages\\PythonSoftwareFoundation.Python.3.9_qbz5n2kfra8p0\\LocalCache\\local-packages\\Python39\\site-packages\\sklearn\\svm\\_base.py:1225: ConvergenceWarning: Liblinear failed to converge, increase the number of iterations.\n",
      "  warnings.warn(\n",
      "C:\\Users\\adrub\\AppData\\Local\\Packages\\PythonSoftwareFoundation.Python.3.9_qbz5n2kfra8p0\\LocalCache\\local-packages\\Python39\\site-packages\\sklearn\\svm\\_base.py:1225: ConvergenceWarning: Liblinear failed to converge, increase the number of iterations.\n",
      "  warnings.warn(\n"
     ]
    }
   ],
   "source": [
    "#clf = svm.LinearSVC(verbose=True,probability=True)\n",
    "clf = sk.calibration.CalibratedClassifierCV(svm.LinearSVC()) \n",
    "if window==1:\n",
    "    clf.fit(x_train_us, y_train_us)\n",
    "else:\n",
    "    clf.fit(x_train, y_train)\n",
    "\n",
    "with open('C:\\ProyectoInicial\\Otros_modelos\\SVM\\modelos\\M_L_NW_US_01.pickle', 'wb') as handle:\n",
    "    pickle.dump(clf, handle, protocol=pickle.HIGHEST_PROTOCOL)"
   ]
  },
  {
   "cell_type": "code",
   "execution_count": 32,
   "metadata": {},
   "outputs": [],
   "source": []
  },
  {
   "cell_type": "code",
   "execution_count": 9,
   "metadata": {},
   "outputs": [
    {
     "ename": "FileNotFoundError",
     "evalue": "[Errno 2] No such file or directory: 'C:\\\\ProyectoInicial\\\\Otros_modelos\\\\SVM\\\\modelos\\\\M_L_US_01.pickle'",
     "output_type": "error",
     "traceback": [
      "\u001b[1;31m---------------------------------------------------------------------------\u001b[0m",
      "\u001b[1;31mFileNotFoundError\u001b[0m                         Traceback (most recent call last)",
      "\u001b[1;32m~\\AppData\\Local\\Temp/ipykernel_7200/3830700271.py\u001b[0m in \u001b[0;36m<module>\u001b[1;34m\u001b[0m\n\u001b[1;32m----> 1\u001b[1;33m \u001b[1;32mwith\u001b[0m \u001b[0mopen\u001b[0m\u001b[1;33m(\u001b[0m\u001b[1;34m'C:\\ProyectoInicial\\Otros_modelos\\SVM\\modelos\\M_L_US_01.pickle'\u001b[0m\u001b[1;33m,\u001b[0m \u001b[1;34m'rb'\u001b[0m\u001b[1;33m)\u001b[0m \u001b[1;32mas\u001b[0m \u001b[0mhandle\u001b[0m\u001b[1;33m:\u001b[0m\u001b[1;33m\u001b[0m\u001b[1;33m\u001b[0m\u001b[0m\n\u001b[0m\u001b[0;32m      2\u001b[0m     \u001b[0mclf\u001b[0m\u001b[1;33m=\u001b[0m\u001b[0mpickle\u001b[0m\u001b[1;33m.\u001b[0m\u001b[0mload\u001b[0m\u001b[1;33m(\u001b[0m\u001b[0mhandle\u001b[0m\u001b[1;33m)\u001b[0m\u001b[1;33m\u001b[0m\u001b[1;33m\u001b[0m\u001b[0m\n",
      "\u001b[1;31mFileNotFoundError\u001b[0m: [Errno 2] No such file or directory: 'C:\\\\ProyectoInicial\\\\Otros_modelos\\\\SVM\\\\modelos\\\\M_L_US_01.pickle'"
     ]
    }
   ],
   "source": [
    "with open('C:\\ProyectoInicial\\Otros_modelos\\SVM\\modelos\\M_L_US_01.pickle', 'rb') as handle:\n",
    "    clf=pickle.load(handle)"
   ]
  },
  {
   "cell_type": "code",
   "execution_count": 35,
   "metadata": {},
   "outputs": [],
   "source": [
    "y_pred_train = clf.predict_proba(x_train)"
   ]
  },
  {
   "cell_type": "code",
   "execution_count": 36,
   "metadata": {},
   "outputs": [
    {
     "data": {
      "text/plain": [
       "(array([2585719.,  293237.,   80313.,   36719.,   21871.,   14766.,\n",
       "          11127.,    9098.,    8101.,   14049.]),\n",
       " array([6.40442274e-06, 1.00005763e-01, 2.00005123e-01, 3.00004482e-01,\n",
       "        4.00003841e-01, 5.00003200e-01, 6.00002559e-01, 7.00001918e-01,\n",
       "        8.00001277e-01, 9.00000636e-01, 9.99999995e-01]),\n",
       " <BarContainer object of 10 artists>)"
      ]
     },
     "execution_count": 36,
     "metadata": {},
     "output_type": "execute_result"
    },
    {
     "data": {
      "image/png": "[encoded data removed]",
      "text/plain": [
       "<Figure size 432x288 with 1 Axes>"
      ]
     },
     "metadata": {
      "needs_background": "light"
     },
     "output_type": "display_data"
    }
   ],
   "source": [
    "plt.hist(y_pred_train[:,1])"
   ]
  },
  {
   "cell_type": "code",
   "execution_count": 38,
   "metadata": {},
   "outputs": [],
   "source": [
    "def perf_array(y,y_gt):\n",
    "    # He observado que la mejor F1 siempre sale con th1=0.05 y th2=0.4\n",
    "    tharr=np.linspace(0.11,0.99,9)\n",
    "    '''th1arr=np.array([0.05])\n",
    "    th2arr=np.array([0.6])'''\n",
    "    performances=[]\n",
    "    y_gt_ind=get_predictions_index(y_gt)\n",
    "    for th in tharr:\n",
    "        print(th)\n",
    "        y_pred_ind=get_predictions_index(y,th)\n",
    "        prec,rec,F1,a,b,c=compute_precision_recall_events(y_pred_ind,y_gt_ind,0)\n",
    "        performances=np.append(performances,[th,prec,rec,F1])\n",
    "    performances=np.reshape(performances,(-1,4))\n",
    "    return performances"
   ]
  },
  {
   "cell_type": "code",
   "execution_count": 39,
   "metadata": {
    "id": "oVvzkRMjIgY1"
   },
   "outputs": [
    {
     "name": "stdout",
     "output_type": "stream",
     "text": [
      "0.11\n",
      "precision = 0.052318443667957314\n",
      "recall = 0.9961744452945677\n",
      "F1 = 0.09941564153319742\n",
      "0.22\n",
      "precision = 0.1327599514830742\n",
      "recall = 0.9701606732976281\n",
      "F1 = 0.23355893619885684\n",
      "0.33\n",
      "precision = 0.2178880766631857\n",
      "recall = 0.936495791889824\n",
      "F1 = 0.3535241135235435\n",
      "0.44\n",
      "precision = 0.30113071008593395\n",
      "recall = 0.8859984697781178\n",
      "F1 = 0.44949000136596623\n",
      "0.55\n",
      "precision = 0.3821623681870156\n",
      "recall = 0.8255547054322877\n",
      "F1 = 0.5224666408837867\n",
      "0.66\n",
      "precision = 0.4721978600245571\n",
      "recall = 0.75592960979342\n",
      "F1 = 0.5812887551917642\n",
      "0.77\n",
      "precision = 0.5770015298317185\n",
      "recall = 0.6656465187452181\n",
      "F1 = 0.6181622545224941\n",
      "0.88\n",
      "precision = 0.676027676027676\n",
      "recall = 0.5455241009946442\n",
      "F1 = 0.6038047623514824\n",
      "0.99\n",
      "precision = 0.8744650499286734\n",
      "recall = 0.23565416985462895\n",
      "F1 = 0.37125982819764847\n",
      "precision = 0.5602879424115177\n",
      "recall = 0.731006160164271\n",
      "F1 = 0.6343619730804819\n"
     ]
    }
   ],
   "source": [
    "prob_arr_train = clf.predict_proba(x_train)\n",
    "prob_train=prob_arr_train[:,1]\n",
    "if window!=1:\n",
    "    y_pred_train=np.empty(shape=(np.shape(prob_arr_train)[0]*window,1,1))\n",
    "    for i,val in enumerate(prob_train):\n",
    "            y_pred_train[i*window:(i+1)*window]=val\n",
    "else:\n",
    "    y_pred_train=prob_train\n",
    "perf=perf_array(y_pred_train,y_train)\n",
    "best_performance=perf[np.argmax(perf[:,3]),:]\n",
    "\n",
    "prob_arr_test = clf.predict_proba(x_test)\n",
    "prod_test=prob_arr_test[:,1]\n",
    "\n",
    "if window!=1:\n",
    "    y_pred_test=np.empty(shape=(np.shape(prob_arr_test)[0]*window,1,1))\n",
    "    for i,val in enumerate(prob_train):\n",
    "            y_pred_test[i*window:(i+1)*window]=val\n",
    "else:\n",
    "    y_pred_test=prod_test\n",
    "\n",
    "y_gt_ind_test=get_predictions_index(y_test)\n",
    "\n",
    "y_pred_ind_test=get_predictions_index(y_pred_test,best_performance[0])\n",
    "P_test,R_test,F1_test,a,b,c=compute_precision_recall_events(y_pred_ind_test,y_gt_ind_test,0)\n",
    "best_performance=np.append(best_performance,[P_test,R_test,F1_test,best_performance[-1]/F1_test])\n"
   ]
  },
  {
   "cell_type": "code",
   "execution_count": 40,
   "metadata": {},
   "outputs": [],
   "source": [
    "results = {\n",
    "\"performance\": best_performance,\n",
    "\"predictions\": 0,\n",
    "}\n",
    "\n",
    "to_save={'results': results,\n",
    "'params': \"SVM\",\n",
    "}\n",
    "# Store data (serialize): un archivo para cada bucle de entrenamiento\n",
    "with open('C:\\ProyectoInicial\\Otros_modelos\\SVM\\SVM_train.pickle', 'wb') as handle:\n",
    " pickle.dump(to_save, handle, protocol=pickle.HIGHEST_PROTOCOL)"
   ]
  },
  {
   "cell_type": "code",
   "execution_count": null,
   "metadata": {
    "colab": {
     "base_uri": "https://localhost:8080/",
     "height": 35
    },
    "id": "v6WNChXR-wVV",
    "outputId": "94294655-b4fd-41cf-84c1-435f62103ad7"
   },
   "outputs": [],
   "source": []
  }
 ],
 "metadata": {
  "colab": {
   "collapsed_sections": [],
   "name": "definitivisimo_grupo13.ipynb",
   "provenance": []
  },
  "interpreter": {
   "hash": "8e284ee3255a07ad8bf76694974743c4c81cb57e7c969474d752d949b11d721e"
  },
  "kernelspec": {
   "display_name": "Python 3.9.13 64-bit",
   "language": "python",
   "name": "python3"
  },
  "language_info": {
   "codemirror_mode": {
    "name": "ipython",
    "version": 3
   },
   "file_extension": ".py",
   "mimetype": "text/x-python",
   "name": "python",
   "nbconvert_exporter": "python",
   "pygments_lexer": "ipython3",
   "version": "3.9.13"
  }
 },
 "nbformat": 4,
 "nbformat_minor": 1
}
